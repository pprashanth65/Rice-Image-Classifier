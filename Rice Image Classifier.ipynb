{
 "cells": [
  {
   "cell_type": "code",
   "execution_count": 1,
   "id": "1988e7d0",
   "metadata": {},
   "outputs": [],
   "source": [
    "import numpy as np\n",
    "import pandas as pd\n",
    "import matplotlib.pyplot as plt\n",
    "import seaborn as sns\n",
    "import torch\n",
    "import torch.nn as nn\n",
    "import torch.nn.functional as F\n",
    "from torchvision.transforms import transforms\n",
    "from torchvision.datasets import ImageFolder\n",
    "from torch.utils.data import DataLoader\n",
    "from torchsummary import summary\n",
    "from torchviz import make_dot\n",
    "from sklearn.metrics import accuracy_score\n",
    "import os\n",
    "import glob\n",
    "import pathlib\n",
    "from PIL import Image\n",
    "import random"
   ]
  },
  {
   "cell_type": "code",
   "execution_count": 2,
   "id": "82eb4ff5",
   "metadata": {},
   "outputs": [],
   "source": [
    "path=pathlib.Path(r\"C:\\Users\\Admin\\Desktop\\Capstone Project\\Rice Image Dataset\\archive\\Rice_Image_Dataset\")"
   ]
  },
  {
   "cell_type": "code",
   "execution_count": 3,
   "id": "e0392616",
   "metadata": {},
   "outputs": [],
   "source": [
    "class_names = ['Arborio', 'basmati', 'ipsala', 'jasmine', 'karacadag']"
   ]
  },
  {
   "cell_type": "code",
   "execution_count": 4,
   "id": "b4c3c8e5",
   "metadata": {},
   "outputs": [],
   "source": [
    "for class_name in class_names:\n",
    "    class_path = path / class_name  # Path to the class folder\n",
    "    image_files = list(class_path.glob('*.jpg'))  # Assuming images are in JPEG format\n",
    "    "
   ]
  },
  {
   "cell_type": "code",
   "execution_count": 5,
   "id": "0113dc78",
   "metadata": {},
   "outputs": [],
   "source": [
    "data_transform=transforms.Compose([\n",
    "    transforms.RandomAutocontrast(0.2),\n",
    "    transforms.Resize((250,250)),\n",
    "    transforms.RandomGrayscale(0.2),\n",
    "    transforms.RandomAdjustSharpness(0.2),\n",
    "    transforms.RandomHorizontalFlip(0.2),\n",
    "    transforms.RandomVerticalFlip(0.2),\n",
    "    transforms.RandomInvert(0.2),\n",
    "    transforms.RandomPerspective(p=0.2),\n",
    "    transforms.RandomRotation(degrees=(0,360)),\n",
    "    transforms.RandomEqualize(0.2),\n",
    "    transforms.ToTensor(),\n",
    "    transforms.Normalize(mean=[0.485, 0.456, 0.406], std=[0.229, 0.224, 0.225])\n",
    "])"
   ]
  },
  {
   "cell_type": "code",
   "execution_count": 6,
   "id": "ae342446",
   "metadata": {},
   "outputs": [],
   "source": [
    "data=ImageFolder(root=path,transform=data_transform)"
   ]
  },
  {
   "cell_type": "code",
   "execution_count": 7,
   "id": "d545f55d",
   "metadata": {},
   "outputs": [
    {
     "data": {
      "text/plain": [
       "Dataset ImageFolder\n",
       "    Number of datapoints: 75000\n",
       "    Root location: C:\\Users\\Admin\\Desktop\\Capstone Project\\Rice Image Dataset\\archive\\Rice_Image_Dataset\n",
       "    StandardTransform\n",
       "Transform: Compose(\n",
       "               RandomAutocontrast(p=0.2)\n",
       "               Resize(size=(250, 250), interpolation=bilinear, max_size=None, antialias=warn)\n",
       "               RandomGrayscale(p=0.2)\n",
       "               RandomAdjustSharpness(sharpness_factor=0.2,p=0.5)\n",
       "               RandomHorizontalFlip(p=0.2)\n",
       "               RandomVerticalFlip(p=0.2)\n",
       "               RandomInvert(p=0.2)\n",
       "               RandomPerspective(p=0.2)\n",
       "               RandomRotation(degrees=[0.0, 360.0], interpolation=nearest, expand=False, fill=0)\n",
       "               RandomEqualize(p=0.2)\n",
       "               ToTensor()\n",
       "               Normalize(mean=[0.485, 0.456, 0.406], std=[0.229, 0.224, 0.225])\n",
       "           )"
      ]
     },
     "execution_count": 7,
     "metadata": {},
     "output_type": "execute_result"
    }
   ],
   "source": [
    "data"
   ]
  },
  {
   "cell_type": "code",
   "execution_count": 8,
   "id": "f4649888",
   "metadata": {},
   "outputs": [
    {
     "data": {
      "text/plain": [
       "75000"
      ]
     },
     "execution_count": 8,
     "metadata": {},
     "output_type": "execute_result"
    }
   ],
   "source": [
    "len(data)"
   ]
  },
  {
   "cell_type": "code",
   "execution_count": 9,
   "id": "98d18fd4",
   "metadata": {},
   "outputs": [],
   "source": [
    "train,test=torch.utils.data.random_split(data,[0.8,0.2])"
   ]
  },
  {
   "cell_type": "code",
   "execution_count": 10,
   "id": "0d0771e2",
   "metadata": {},
   "outputs": [
    {
     "data": {
      "text/plain": [
       "(60000, 15000)"
      ]
     },
     "execution_count": 10,
     "metadata": {},
     "output_type": "execute_result"
    }
   ],
   "source": [
    "len(train),len(test)"
   ]
  },
  {
   "cell_type": "code",
   "execution_count": 11,
   "id": "9de53a6d",
   "metadata": {},
   "outputs": [],
   "source": [
    "train_data=DataLoader(dataset=train,batch_size=50,shuffle=True)\n",
    "test_data=DataLoader(dataset=test,batch_size=50,shuffle=False)"
   ]
  },
  {
   "cell_type": "code",
   "execution_count": 66,
   "id": "2f31e769",
   "metadata": {},
   "outputs": [],
   "source": [
    "class model(nn.Module):\n",
    "    def __init__(self):\n",
    "        super(model,self).__init__()\n",
    "        self.conv1=nn.Conv2d(in_channels=3,out_channels=50,kernel_size=3)  \n",
    "        self.relu1=nn.ReLU()\n",
    "        self.pool1=nn.MaxPool2d(kernel_size=3)\n",
    "        \n",
    "        self.conv2=nn.Conv2d(in_channels=50,out_channels=100,kernel_size=3)\n",
    "        self.relu2=nn.ReLU()\n",
    "        self.pool2=nn.MaxPool2d(kernel_size=3)\n",
    "        \n",
    "        self.conv3=nn.Conv2d(in_channels=100,out_channels=150,kernel_size=3)\n",
    "        self.relu3=nn.ReLU()\n",
    "        self.pool3=nn.MaxPool2d(kernel_size=3)\n",
    "        \n",
    "        \n",
    "        self.fc1 = nn.Linear(150 * 8 * 8, 500)\n",
    "        self.dropout1=nn.Dropout(0.5)\n",
    "        self.fc2=nn.Linear(500,750)\n",
    "        self.dropout2=nn.Dropout(0.5)\n",
    "        self.fc3=nn.Linear(750,1000)\n",
    "        self.dropout3=nn.Dropout(0.5)\n",
    "        self.fc4=nn.Linear(1000,len(data.classes))\n",
    "    def forward(self,x):\n",
    "        x=self.conv1(x)\n",
    "        x=self.relu1(x)\n",
    "        x=self.pool1(x)\n",
    "        \n",
    "        x=self.conv2(x)\n",
    "        x=self.relu2(x)\n",
    "        x=self.pool2(x)\n",
    "        \n",
    "        x=self.conv3(x)\n",
    "        x=self.relu3(x)\n",
    "        x=self.pool3(x)\n",
    "        \n",
    "        x = torch.flatten(x, 1)\n",
    "        x = nn.ReLU()(self.fc1(x))\n",
    "        x=self.dropout1(x)\n",
    "        \n",
    "        x=nn.ReLU()(self.fc2(x))\n",
    "        x=self.dropout2(x)\n",
    "        \n",
    "        x=nn.ReLU()(self.fc3(x))\n",
    "        x=self.dropout3(x)\n",
    "        \n",
    "        x=self.fc4(x)\n",
    "        return x "
   ]
  },
  {
   "cell_type": "code",
   "execution_count": 13,
   "id": "71548612",
   "metadata": {},
   "outputs": [],
   "source": [
    "model=model().cuda()"
   ]
  },
  {
   "cell_type": "code",
   "execution_count": 14,
   "id": "bdb31c45",
   "metadata": {},
   "outputs": [
    {
     "name": "stdout",
     "output_type": "stream",
     "text": [
      "----------------------------------------------------------------\n",
      "        Layer (type)               Output Shape         Param #\n",
      "================================================================\n",
      "            Conv2d-1         [50, 50, 248, 248]           1,400\n",
      "              ReLU-2         [50, 50, 248, 248]               0\n",
      "         MaxPool2d-3           [50, 50, 82, 82]               0\n",
      "            Conv2d-4          [50, 100, 80, 80]          45,100\n",
      "              ReLU-5          [50, 100, 80, 80]               0\n",
      "         MaxPool2d-6          [50, 100, 26, 26]               0\n",
      "            Conv2d-7          [50, 150, 24, 24]         135,150\n",
      "              ReLU-8          [50, 150, 24, 24]               0\n",
      "         MaxPool2d-9            [50, 150, 8, 8]               0\n",
      "           Linear-10                  [50, 500]       4,800,500\n",
      "          Dropout-11                  [50, 500]               0\n",
      "           Linear-12                  [50, 750]         375,750\n",
      "          Dropout-13                  [50, 750]               0\n",
      "           Linear-14                 [50, 1000]         751,000\n",
      "          Dropout-15                 [50, 1000]               0\n",
      "           Linear-16                    [50, 5]           5,005\n",
      "================================================================\n",
      "Total params: 6,113,905\n",
      "Trainable params: 6,113,905\n",
      "Non-trainable params: 0\n",
      "----------------------------------------------------------------\n",
      "Input size (MB): 35.76\n",
      "Forward/backward pass size (MB): 3059.81\n",
      "Params size (MB): 23.32\n",
      "Estimated Total Size (MB): 3118.89\n",
      "----------------------------------------------------------------\n"
     ]
    }
   ],
   "source": [
    "summary(model,input_size=(3,250,250),batch_size=50)"
   ]
  },
  {
   "cell_type": "code",
   "execution_count": 15,
   "id": "62a4a0be",
   "metadata": {},
   "outputs": [],
   "source": [
    "criteria = nn.CrossEntropyLoss().cuda()\n",
    "optimizer=torch.optim.Adam(model.parameters(),lr=0.001)"
   ]
  },
  {
   "cell_type": "code",
   "execution_count": 16,
   "id": "839d5ec7",
   "metadata": {},
   "outputs": [],
   "source": [
    "patience=3\n",
    "best_test_loss=float('inf')\n",
    "early_stop_counter=0"
   ]
  },
  {
   "cell_type": "code",
   "execution_count": 17,
   "id": "1854e79b",
   "metadata": {},
   "outputs": [
    {
     "name": "stdout",
     "output_type": "stream",
     "text": [
      "Epoch [1] Train Loss: 0.49427984210352105 Test Loss: 0.24032945107668638 Train Accuracy: 0.8057666666666666 Test Accuracy: 0.9063333333333333\n",
      "Epoch [2] Train Loss: 0.27601318379243217 Test Loss: 0.1885134212921063 Train Accuracy: 0.8942 Test Accuracy: 0.9304666666666667\n",
      "Epoch [3] Train Loss: 0.22144921527244152 Test Loss: 0.19473163296778997 Train Accuracy: 0.9175666666666666 Test Accuracy: 0.9284\n",
      "Epoch [4] Train Loss: 0.1979086550992603 Test Loss: 0.13398988142920037 Train Accuracy: 0.927 Test Accuracy: 0.9504666666666667\n",
      "Epoch [5] Train Loss: 0.18623141842273375 Test Loss: 0.12923257685576875 Train Accuracy: 0.9328 Test Accuracy: 0.9532\n",
      "Epoch [6] Train Loss: 0.18198356621743492 Test Loss: 0.14663819584064186 Train Accuracy: 0.9336166666666667 Test Accuracy: 0.9484666666666667\n",
      "Epoch [7] Train Loss: 0.16896455727828047 Test Loss: 0.11214843940300247 Train Accuracy: 0.9396333333333333 Test Accuracy: 0.9593333333333334\n",
      "Epoch [8] Train Loss: 0.16684560325772813 Test Loss: 0.13139219993104537 Train Accuracy: 0.9405166666666667 Test Accuracy: 0.9524\n",
      "Epoch [9] Train Loss: 0.16189576703278968 Test Loss: 0.11936620301256577 Train Accuracy: 0.943 Test Accuracy: 0.9576\n",
      "Epoch [10] Train Loss: 0.15235201296241332 Test Loss: 0.09283344144156823 Train Accuracy: 0.9453833333333334 Test Accuracy: 0.9639333333333333\n",
      "Epoch [11] Train Loss: 0.1558356400501604 Test Loss: 0.11910407843689123 Train Accuracy: 0.9454166666666667 Test Accuracy: 0.9574\n",
      "Epoch [12] Train Loss: 0.14599469208080942 Test Loss: 0.11511847773566843 Train Accuracy: 0.9494833333333333 Test Accuracy: 0.9603333333333334\n",
      "Epoch [13] Train Loss: 0.14588313163180525 Test Loss: 0.12200728753581642 Train Accuracy: 0.94845 Test Accuracy: 0.9555333333333333\n",
      "Early stopping triggered\n",
      "Finished Training\n"
     ]
    }
   ],
   "source": [
    "num_epochs = 25  # the number of epochs for training\n",
    "training_loss=[]\n",
    "testing_loss=[]\n",
    "training_accuracy=[]\n",
    "testing_accuracy=[]\n",
    "predicted=[]\n",
    "known=[]\n",
    "epochss=[]\n",
    "# Start of training section\n",
    "for epoch in range(num_epochs):\n",
    "    model.train()  # Setting the model to training mode\n",
    "    train_loss = 0\n",
    "    train_predict = []  # List to store training predictions\n",
    "    train_labels = []  # List to store training labels\n",
    "\n",
    "    for i, (inputs, labels) in enumerate(train_data):\n",
    "        inputs, labels = inputs.cuda(), labels.cuda()\n",
    "\n",
    "        optimizer.zero_grad()  # Zeroing the gradients\n",
    "        outputs = model(inputs)  # Getting the model predictions\n",
    "        loss = criteria(outputs, labels)  # Calculating the loss using Cross Entropy\n",
    "        loss.backward()\n",
    "        optimizer.step()  # Using the Adam Optimizer to optimize the model\n",
    "        train_loss += loss.item()\n",
    "\n",
    "        # Store predictions and labels for training accuracy calculation\n",
    "        train_predict.extend(torch.argmax(outputs, dim=1).cpu().numpy())\n",
    "        train_labels.extend(labels.cpu().numpy())\n",
    "\n",
    "    # Start the Validation section\n",
    "    model.eval()  # Setting the model to evaluation mode\n",
    "    test_loss = 0\n",
    "    test_predict = []\n",
    "    test_labels = []\n",
    "\n",
    "    with torch.no_grad():\n",
    "        for inputs, labels in test_data:\n",
    "            inputs, labels = inputs.cuda(), labels.cuda()\n",
    "            outputs = model(inputs)  # Getting the model predictions\n",
    "            test_loss += criteria(outputs, labels).item()\n",
    "            test_predict.extend(torch.argmax(outputs, dim=1).cpu().numpy())\n",
    "            test_labels.extend(labels.cpu().numpy())\n",
    "\n",
    "    test_loss /= len(test_data)\n",
    "    test_accuracy = accuracy_score(test_labels, test_predict)  # Calculate the test accuracy\n",
    "    train_accuracy = accuracy_score(train_labels, train_predict)  # Calculate the training accuracy\n",
    "\n",
    "    print(f'Epoch [{epoch + 1}] Train Loss: {train_loss / len(train_data)} '\n",
    "          f'Test Loss: {test_loss} '\n",
    "          f'Train Accuracy: {train_accuracy} '\n",
    "          f'Test Accuracy: {test_accuracy}')\n",
    "    training_accuracy.append(train_accuracy)\n",
    "    testing_accuracy.append(test_accuracy)\n",
    "    training_loss.append(train_loss / len(train_data))\n",
    "    testing_loss.append(test_loss)\n",
    "    epochss.append(epoch + 1)\n",
    "    \n",
    "    if epoch==num_epochs:\n",
    "        predicted.append(test_predict)\n",
    "        known.append(test_labels)\n",
    "\n",
    "    # Early stopping section\n",
    "    if test_loss < best_test_loss:\n",
    "        best_test_loss = test_loss\n",
    "        early_stop_counter = 0\n",
    "    else:\n",
    "        early_stop_counter += 1\n",
    "        if early_stop_counter >= patience:\n",
    "            predicted.append(test_predict)\n",
    "            known.append(test_labels)\n",
    "            print('Early stopping triggered')\n",
    "            break\n",
    "\n",
    "print('Finished Training')"
   ]
  },
  {
   "cell_type": "code",
   "execution_count": 32,
   "id": "9b050d19",
   "metadata": {},
   "outputs": [],
   "source": [
    "df=pd.DataFrame()\n",
    "df['known']=known\n",
    "df['predicted']=predicted"
   ]
  },
  {
   "cell_type": "code",
   "execution_count": 34,
   "id": "84c98dc0",
   "metadata": {},
   "outputs": [],
   "source": [
    "df1=df"
   ]
  },
  {
   "cell_type": "code",
   "execution_count": 35,
   "id": "62a92bf8",
   "metadata": {},
   "outputs": [
    {
     "data": {
      "text/plain": [
       "known        [2, 4, 3, 0, 4, 4, 0, 3, 4, 2, 0, 4, 1, 1, 4, ...\n",
       "predicted    [2, 4, 3, 0, 4, 4, 0, 3, 4, 2, 0, 4, 1, 1, 4, ...\n",
       "Name: 0, dtype: object"
      ]
     },
     "execution_count": 35,
     "metadata": {},
     "output_type": "execute_result"
    }
   ],
   "source": [
    "df1.squeeze()"
   ]
  },
  {
   "cell_type": "code",
   "execution_count": 39,
   "id": "da33bd08",
   "metadata": {},
   "outputs": [
    {
     "data": {
      "text/html": [
       "<div>\n",
       "<style scoped>\n",
       "    .dataframe tbody tr th:only-of-type {\n",
       "        vertical-align: middle;\n",
       "    }\n",
       "\n",
       "    .dataframe tbody tr th {\n",
       "        vertical-align: top;\n",
       "    }\n",
       "\n",
       "    .dataframe thead th {\n",
       "        text-align: right;\n",
       "    }\n",
       "</style>\n",
       "<table border=\"1\" class=\"dataframe\">\n",
       "  <thead>\n",
       "    <tr style=\"text-align: right;\">\n",
       "      <th></th>\n",
       "      <th>known</th>\n",
       "      <th>predicted</th>\n",
       "    </tr>\n",
       "  </thead>\n",
       "  <tbody>\n",
       "  </tbody>\n",
       "</table>\n",
       "</div>"
      ],
      "text/plain": [
       "Empty DataFrame\n",
       "Columns: [known, predicted]\n",
       "Index: []"
      ]
     },
     "execution_count": 39,
     "metadata": {},
     "output_type": "execute_result"
    }
   ],
   "source": [
    "df1.iloc[:-1]"
   ]
  },
  {
   "cell_type": "code",
   "execution_count": 40,
   "id": "c2882e51",
   "metadata": {},
   "outputs": [],
   "source": [
    "known1=known"
   ]
  },
  {
   "cell_type": "code",
   "execution_count": 56,
   "id": "7d0d6745",
   "metadata": {},
   "outputs": [],
   "source": [
    "known1=np.array(known)\n",
    "predicted1=np.array(predicted)"
   ]
  },
  {
   "cell_type": "code",
   "execution_count": 45,
   "id": "7a1d8957",
   "metadata": {},
   "outputs": [
    {
     "data": {
      "text/plain": [
       "array([2, 4, 3, ..., 2, 1, 4], dtype=int64)"
      ]
     },
     "execution_count": 45,
     "metadata": {},
     "output_type": "execute_result"
    }
   ],
   "source": [
    "known1.flatten()\n",
    "predicted1.flatten()"
   ]
  },
  {
   "cell_type": "code",
   "execution_count": 59,
   "id": "d222c5ee",
   "metadata": {},
   "outputs": [],
   "source": [
    "df1=pd.DataFrame()\n",
    "df1['known']=known1.flatten()\n",
    "df1['predicted']=predicted1.flatten()"
   ]
  },
  {
   "cell_type": "code",
   "execution_count": 60,
   "id": "690bf995",
   "metadata": {},
   "outputs": [
    {
     "data": {
      "text/html": [
       "<div>\n",
       "<style scoped>\n",
       "    .dataframe tbody tr th:only-of-type {\n",
       "        vertical-align: middle;\n",
       "    }\n",
       "\n",
       "    .dataframe tbody tr th {\n",
       "        vertical-align: top;\n",
       "    }\n",
       "\n",
       "    .dataframe thead th {\n",
       "        text-align: right;\n",
       "    }\n",
       "</style>\n",
       "<table border=\"1\" class=\"dataframe\">\n",
       "  <thead>\n",
       "    <tr style=\"text-align: right;\">\n",
       "      <th></th>\n",
       "      <th>known</th>\n",
       "      <th>predicted</th>\n",
       "    </tr>\n",
       "  </thead>\n",
       "  <tbody>\n",
       "    <tr>\n",
       "      <th>0</th>\n",
       "      <td>2</td>\n",
       "      <td>2</td>\n",
       "    </tr>\n",
       "    <tr>\n",
       "      <th>1</th>\n",
       "      <td>4</td>\n",
       "      <td>4</td>\n",
       "    </tr>\n",
       "    <tr>\n",
       "      <th>2</th>\n",
       "      <td>3</td>\n",
       "      <td>3</td>\n",
       "    </tr>\n",
       "    <tr>\n",
       "      <th>3</th>\n",
       "      <td>0</td>\n",
       "      <td>0</td>\n",
       "    </tr>\n",
       "    <tr>\n",
       "      <th>4</th>\n",
       "      <td>4</td>\n",
       "      <td>4</td>\n",
       "    </tr>\n",
       "    <tr>\n",
       "      <th>...</th>\n",
       "      <td>...</td>\n",
       "      <td>...</td>\n",
       "    </tr>\n",
       "    <tr>\n",
       "      <th>14995</th>\n",
       "      <td>4</td>\n",
       "      <td>0</td>\n",
       "    </tr>\n",
       "    <tr>\n",
       "      <th>14996</th>\n",
       "      <td>3</td>\n",
       "      <td>3</td>\n",
       "    </tr>\n",
       "    <tr>\n",
       "      <th>14997</th>\n",
       "      <td>2</td>\n",
       "      <td>2</td>\n",
       "    </tr>\n",
       "    <tr>\n",
       "      <th>14998</th>\n",
       "      <td>1</td>\n",
       "      <td>1</td>\n",
       "    </tr>\n",
       "    <tr>\n",
       "      <th>14999</th>\n",
       "      <td>4</td>\n",
       "      <td>4</td>\n",
       "    </tr>\n",
       "  </tbody>\n",
       "</table>\n",
       "<p>15000 rows × 2 columns</p>\n",
       "</div>"
      ],
      "text/plain": [
       "       known  predicted\n",
       "0          2          2\n",
       "1          4          4\n",
       "2          3          3\n",
       "3          0          0\n",
       "4          4          4\n",
       "...      ...        ...\n",
       "14995      4          0\n",
       "14996      3          3\n",
       "14997      2          2\n",
       "14998      1          1\n",
       "14999      4          4\n",
       "\n",
       "[15000 rows x 2 columns]"
      ]
     },
     "execution_count": 60,
     "metadata": {},
     "output_type": "execute_result"
    }
   ],
   "source": [
    "df1"
   ]
  },
  {
   "cell_type": "code",
   "execution_count": 61,
   "id": "6591ab7a",
   "metadata": {},
   "outputs": [
    {
     "data": {
      "text/plain": [
       "0.9555333333333333"
      ]
     },
     "execution_count": 61,
     "metadata": {},
     "output_type": "execute_result"
    }
   ],
   "source": [
    "accuracy_score(df1['known'],df1['predicted'])"
   ]
  },
  {
   "cell_type": "code",
   "execution_count": 62,
   "id": "dccaa5e3",
   "metadata": {},
   "outputs": [],
   "source": [
    "from sklearn.metrics import classification_report"
   ]
  },
  {
   "cell_type": "code",
   "execution_count": 63,
   "id": "fbfa36ac",
   "metadata": {},
   "outputs": [
    {
     "name": "stdout",
     "output_type": "stream",
     "text": [
      "              precision    recall  f1-score   support\n",
      "\n",
      "           0       0.93      0.97      0.95      3012\n",
      "           1       0.98      0.96      0.97      2970\n",
      "           2       1.00      0.96      0.98      3014\n",
      "           3       0.91      0.97      0.94      3040\n",
      "           4       0.98      0.93      0.95      2964\n",
      "\n",
      "    accuracy                           0.96     15000\n",
      "   macro avg       0.96      0.96      0.96     15000\n",
      "weighted avg       0.96      0.96      0.96     15000\n",
      "\n"
     ]
    }
   ],
   "source": [
    "print(classification_report(df1['known'],df1['predicted']))"
   ]
  },
  {
   "cell_type": "code",
   "execution_count": 88,
   "id": "bd14b7f6",
   "metadata": {},
   "outputs": [
    {
     "data": {
      "image/png": "[encoded data removed]",
      "text/plain": [
       "<Figure size 640x480 with 1 Axes>"
      ]
     },
     "metadata": {},
     "output_type": "display_data"
    }
   ],
   "source": [
    "sns.lineplot(x=epochss,y=training_accuracy,label='training accuracy')\n",
    "sns.lineplot(x=epochss,y=testing_accuracy,label='testing accuracy')\n",
    "plt.title('Accuracy')\n",
    "plt.show()"
   ]
  },
  {
   "cell_type": "code",
   "execution_count": 89,
   "id": "44b64925",
   "metadata": {},
   "outputs": [
    {
     "data": {
      "image/png": "[encoded data removed]",
      "text/plain": [
       "<Figure size 640x480 with 1 Axes>"
      ]
     },
     "metadata": {},
     "output_type": "display_data"
    }
   ],
   "source": [
    "sns.lineplot(x=epochss,y=training_loss,label='training loss')\n",
    "sns.lineplot(x=epochss,y=testing_loss,label='testing loss')\n",
    "plt.title('Loss')\n",
    "plt.show()"
   ]
  },
  {
   "cell_type": "code",
   "execution_count": 64,
   "id": "14096249",
   "metadata": {},
   "outputs": [],
   "source": [
    "torch.save(model.state_dict(), 'first_model_state_dict')"
   ]
  },
  {
   "cell_type": "code",
   "execution_count": 67,
   "id": "a8a945b7",
   "metadata": {},
   "outputs": [],
   "source": [
    "loaded_model = model().cuda()"
   ]
  },
  {
   "cell_type": "code",
   "execution_count": 68,
   "id": "61309d60",
   "metadata": {},
   "outputs": [],
   "source": [
    "dict=torch.load('first_model_state_dict')"
   ]
  },
  {
   "cell_type": "code",
   "execution_count": 69,
   "id": "3d3d7528",
   "metadata": {},
   "outputs": [
    {
     "data": {
      "text/plain": [
       "<All keys matched successfully>"
      ]
     },
     "execution_count": 69,
     "metadata": {},
     "output_type": "execute_result"
    }
   ],
   "source": [
    "loaded_model.load_state_dict(dict)"
   ]
  },
  {
   "cell_type": "code",
   "execution_count": 71,
   "id": "3e474cc1",
   "metadata": {},
   "outputs": [],
   "source": [
    "image_path = r'C:\\Users\\Admin\\Desktop\\Capstone Project\\Rice Image Dataset\\archive\\Rice_Image_Dataset\\Jasmine\\Jasmine (35).jpg'\n",
    "image = Image.open(image_path)"
   ]
  },
  {
   "cell_type": "code",
   "execution_count": 72,
   "id": "2f9da6cf",
   "metadata": {},
   "outputs": [
    {
     "data": {
      "text/plain": [
       "<matplotlib.image.AxesImage at 0x1d0ed4e2250>"
      ]
     },
     "execution_count": 72,
     "metadata": {},
     "output_type": "execute_result"
    },
    {
     "data": {
      "image/png": "[encoded data removed]",
      "text/plain": [
       "<Figure size 640x480 with 1 Axes>"
      ]
     },
     "metadata": {},
     "output_type": "display_data"
    }
   ],
   "source": [
    "plt.imshow(image)"
   ]
  },
  {
   "cell_type": "code",
   "execution_count": 73,
   "id": "b85dc920",
   "metadata": {},
   "outputs": [],
   "source": [
    "image=data_transform(image)  \n",
    "image=image.unsqueeze(0)"
   ]
  },
  {
   "cell_type": "code",
   "execution_count": 74,
   "id": "2d72947b",
   "metadata": {},
   "outputs": [
    {
     "data": {
      "text/plain": [
       "model(\n",
       "  (conv1): Conv2d(3, 50, kernel_size=(3, 3), stride=(1, 1))\n",
       "  (relu1): ReLU()\n",
       "  (pool1): MaxPool2d(kernel_size=3, stride=3, padding=0, dilation=1, ceil_mode=False)\n",
       "  (conv2): Conv2d(50, 100, kernel_size=(3, 3), stride=(1, 1))\n",
       "  (relu2): ReLU()\n",
       "  (pool2): MaxPool2d(kernel_size=3, stride=3, padding=0, dilation=1, ceil_mode=False)\n",
       "  (conv3): Conv2d(100, 150, kernel_size=(3, 3), stride=(1, 1))\n",
       "  (relu3): ReLU()\n",
       "  (pool3): MaxPool2d(kernel_size=3, stride=3, padding=0, dilation=1, ceil_mode=False)\n",
       "  (fc1): Linear(in_features=9600, out_features=500, bias=True)\n",
       "  (dropout1): Dropout(p=0.5, inplace=False)\n",
       "  (fc2): Linear(in_features=500, out_features=750, bias=True)\n",
       "  (dropout2): Dropout(p=0.5, inplace=False)\n",
       "  (fc3): Linear(in_features=750, out_features=1000, bias=True)\n",
       "  (dropout3): Dropout(p=0.5, inplace=False)\n",
       "  (fc4): Linear(in_features=1000, out_features=5, bias=True)\n",
       ")"
      ]
     },
     "execution_count": 74,
     "metadata": {},
     "output_type": "execute_result"
    }
   ],
   "source": [
    "loaded_model.eval()"
   ]
  },
  {
   "cell_type": "code",
   "execution_count": 75,
   "id": "8ace1162",
   "metadata": {},
   "outputs": [
    {
     "name": "stdout",
     "output_type": "stream",
     "text": [
      "Predicted class: jasmine\n"
     ]
    }
   ],
   "source": [
    "with torch.no_grad():\n",
    "    outputs = loaded_model(image.cuda())  # Assuming your model is on the GPU\n",
    "    _, predicted = torch.max(outputs, 1)\n",
    "\n",
    "# Define your classes\n",
    "classes = ['arborio', 'basmati', 'ipsala', 'jasmine', 'karacadag']\n",
    "\n",
    "# Get the predicted class label\n",
    "predicted_class = classes[predicted.item()]\n",
    "\n",
    "# Print the predicted class\n",
    "print(\"Predicted class:\", predicted_class)"
   ]
  },
  {
   "cell_type": "code",
   "execution_count": null,
   "id": "4d85e031",
   "metadata": {},
   "outputs": [],
   "source": []
  }
 ],
 "metadata": {
  "kernelspec": {
   "display_name": "Python 3 (ipykernel)",
   "language": "python",
   "name": "python3"
  },
  "language_info": {
   "codemirror_mode": {
    "name": "ipython",
    "version": 3
   },
   "file_extension": ".py",
   "mimetype": "text/x-python",
   "name": "python",
   "nbconvert_exporter": "python",
   "pygments_lexer": "ipython3",
   "version": "3.11.5"
  }
 },
 "nbformat": 4,
 "nbformat_minor": 5
}
